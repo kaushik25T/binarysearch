{
 "cells": [
  {
   "cell_type": "code",
   "execution_count": 1,
   "metadata": {},
   "outputs": [],
   "source": [
    "def search(l,n):\n",
    "    first=0\n",
    "    last = len(l)\n",
    "    last=last-1\n",
    "    temp=last\n",
    "    middle=int((first+last)/2)\n",
    "    if n==l[middle]:\n",
    "        return middle\n",
    "    if n<l[middle]:\n",
    "        while middle>=0:\n",
    "            last=middle\n",
    "            middle=int((first+last)/2)\n",
    "            if n==l[middle]:\n",
    "                return middle\n",
    "            elif n>l[middle]:\n",
    "                first=middle\n",
    "                last=temp\n",
    "                middle=int((first+last)/2)\n",
    "    if n>l[middle]:\n",
    "        while middle <len(l):\n",
    "            first=middle\n",
    "            middle=int((first+last)/2)\n",
    "            if n==l[middle]:\n",
    "                return middle\n",
    "            elif n<l[middle]:\n",
    "                last=middle\n",
    "                middle=int((first+last)/2)\n",
    "                "
   ]
  },
  {
   "cell_type": "code",
   "execution_count": 2,
   "metadata": {},
   "outputs": [
    {
     "name": "stdout",
     "output_type": "stream",
     "text": [
      "enter the number to be searched 7\n",
      "[0, 1, 2, 4, 5, 7, 8, 9, 11, 12]\n",
      "The number is on  6  position\n"
     ]
    }
   ],
   "source": [
    "my_list=[0,2,1,12,4,5,11,9,8,7]\n",
    "num=int(input(\"enter the number to be searched \"))\n",
    "my_list.sort()\n",
    "print(my_list)\n",
    "result=search(my_list,num)\n",
    "print(\"The number is on \" ,result +1 ,\" position\") "
   ]
  },
  {
   "cell_type": "code",
   "execution_count": null,
   "metadata": {},
   "outputs": [],
   "source": []
  }
 ],
 "metadata": {
  "kernelspec": {
   "display_name": "Python 3",
   "language": "python",
   "name": "python3"
  },
  "language_info": {
   "codemirror_mode": {
    "name": "ipython",
    "version": 3
   },
   "file_extension": ".py",
   "mimetype": "text/x-python",
   "name": "python",
   "nbconvert_exporter": "python",
   "pygments_lexer": "ipython3",
   "version": "3.7.4"
  }
 },
 "nbformat": 4,
 "nbformat_minor": 2
}
